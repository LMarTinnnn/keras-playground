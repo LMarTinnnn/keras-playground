{
 "cells": [
  {
   "cell_type": "code",
   "execution_count": 13,
   "metadata": {},
   "outputs": [],
   "source": [
    "import os, shutil"
   ]
  },
  {
   "cell_type": "code",
   "execution_count": 14,
   "metadata": {},
   "outputs": [],
   "source": [
    "original_train_path = '/Users/l/Documents/MachineLearning/keras-playground/CatsVsDogs/original_data/train'\n",
    "original_test_path = '/Users/l/Documents/MachineLearning/keras-playground/CatsVsDogs/original_data/test'\n",
    "small_dataset_base_path = '/Users/l/Documents/MachineLearning/keras-playground/CatsVsDogs/small_dataset'\n",
    "\n",
    "# 建立小数据集里的训练验证和测试文件\n",
    "train_dir = os.path.join(small_dataset_base_path, 'train')\n",
    "validation_dir = os.path.join(small_dataset_base_path, 'validation')\n",
    "test_dir = os.path.join(small_dataset_base_path, 'test')\n",
    "\n",
    "\n",
    "# 建立小数据集里的各个猫狗文件夹\n",
    "train_cats_dir = os.path.join(train_dir, 'cats')\n",
    "train_dogs_dir = os.path.join(train_dir, 'dogs')\n",
    "validation_cats_dir = os.path.join(validation_dir, 'cats')\n",
    "validation_dogs_dir = os.path.join(validation_dir, 'dogs')\n",
    "test_cats_dir = os.path.join(test_dir, 'cats')\n",
    "test_dogs_dir = os.path.join(test_dir, 'dogs')"
   ]
  },
  {
   "cell_type": "code",
   "execution_count": 20,
   "metadata": {
    "scrolled": true
   },
   "outputs": [],
   "source": [
    "os.mkdir(train_dir)\n",
    "os.mkdir(validation_dir)\n",
    "os.mkdir(test_dir)\n",
    "os.mkdir(train_cats_dir)\n",
    "os.mkdir(train_dogs_dir)\n",
    "os.mkdir(validation_cats_dir)\n",
    "os.mkdir(validation_dogs_dir)\n",
    "os.mkdir(test_cats_dir)\n",
    "os.mkdir(test_dogs_dir)"
   ]
  },
  {
   "cell_type": "code",
   "execution_count": 21,
   "metadata": {},
   "outputs": [],
   "source": [
    "file_names = ['cat.{}.jpg'.format(i) for i in range(1000)] #提取1000张猫的照片 做训练集\n",
    "for fname in file_names:\n",
    "    src = os.path.join(original_train_path, fname)\n",
    "    dst = os.path.join(train_cats_dir, fname)\n",
    "    shutil.copyfile(src, dst)"
   ]
  },
  {
   "cell_type": "code",
   "execution_count": 22,
   "metadata": {},
   "outputs": [],
   "source": [
    "file_names = ['cat.{}.jpg'.format(i) for i in range(1000, 1500)] #接着提取500张猫的照片 做验证集\n",
    "for fname in file_names:\n",
    "    src = os.path.join(original_train_path, fname)\n",
    "    dst = os.path.join(validation_cats_dir, fname)\n",
    "    shutil.copyfile(src, dst)\n",
    "\n",
    "file_names = ['cat.{}.jpg'.format(i) for i in range(1500, 2000)] #接着提取500张猫的照片 做测试集\n",
    "for fname in file_names:\n",
    "    src = os.path.join(original_train_path, fname)\n",
    "    dst = os.path.join(test_cats_dir, fname)\n",
    "    shutil.copyfile(src, dst)"
   ]
  },
  {
   "cell_type": "code",
   "execution_count": 23,
   "metadata": {},
   "outputs": [],
   "source": [
    "file_names = ['dog.{}.jpg'.format(i) for i in range(1000)] #提取1000张狗的照片 做训练集\n",
    "for fname in file_names:\n",
    "    src = os.path.join(original_train_path, fname)\n",
    "    dst = os.path.join(train_dogs_dir, fname)\n",
    "    shutil.copyfile(src, dst)\n",
    "\n",
    "file_names = ['dog.{}.jpg'.format(i) for i in range(1000, 1500)] #接着提取500张狗的照片 做验证集\n",
    "for fname in file_names:\n",
    "    src = os.path.join(original_train_path, fname)\n",
    "    dst = os.path.join(validation_dogs_dir, fname)\n",
    "    shutil.copyfile(src, dst)\n",
    "    \n",
    "file_names = ['dog.{}.jpg'.format(i) for i in range(1500, 2000)] #接着提取500张狗的照片 做测试集\n",
    "for fname in file_names:\n",
    "    src = os.path.join(original_train_path, fname)\n",
    "    dst = os.path.join(test_dogs_dir, fname)\n",
    "    shutil.copyfile(src, dst)"
   ]
  },
  {
   "cell_type": "code",
   "execution_count": 27,
   "metadata": {},
   "outputs": [
    {
     "name": "stdout",
     "output_type": "stream",
     "text": [
      "('Train cats images: ', 500)\n"
     ]
    }
   ],
   "source": [
    "print('Train cats images: ', len(os.listdir(test_dogs_dir)))"
   ]
  },
  {
   "cell_type": "code",
   "execution_count": null,
   "metadata": {},
   "outputs": [],
   "source": []
  }
 ],
 "metadata": {
  "kernelspec": {
   "display_name": "Python 2",
   "language": "python",
   "name": "python2"
  },
  "language_info": {
   "codemirror_mode": {
    "name": "ipython",
    "version": 2
   },
   "file_extension": ".py",
   "mimetype": "text/x-python",
   "name": "python",
   "nbconvert_exporter": "python",
   "pygments_lexer": "ipython2",
   "version": "2.7.15"
  }
 },
 "nbformat": 4,
 "nbformat_minor": 2
}
