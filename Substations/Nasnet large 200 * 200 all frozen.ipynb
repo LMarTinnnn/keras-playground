{
 "cells": [
  {
   "cell_type": "code",
   "execution_count": 11,
   "metadata": {
    "scrolled": true
   },
   "outputs": [],
   "source": [
    "from keras.applications.nasnet import NASNetLarge\n",
    "conv_base = NASNetLarge(weights='imagenet', include_top=False, input_shape=(200, 200, 3), pooling=None)"
   ]
  },
  {
   "cell_type": "code",
   "execution_count": 12,
   "metadata": {},
   "outputs": [],
   "source": [
    "#conv_base.summary()"
   ]
  },
  {
   "cell_type": "code",
   "execution_count": 17,
   "metadata": {},
   "outputs": [
    {
     "name": "stdout",
     "output_type": "stream",
     "text": [
      "_________________________________________________________________\n",
      "Layer (type)                 Output Shape              Param #   \n",
      "=================================================================\n",
      "NASNet (Model)               (None, 7, 7, 4032)        84916818  \n",
      "_________________________________________________________________\n",
      "flatten_4 (Flatten)          (None, 197568)            0         \n",
      "_________________________________________________________________\n",
      "dense_7 (Dense)              (None, 256)               50577664  \n",
      "_________________________________________________________________\n",
      "dense_8 (Dense)              (None, 1)                 257       \n",
      "=================================================================\n",
      "Total params: 135,494,739\n",
      "Trainable params: 135,298,071\n",
      "Non-trainable params: 196,668\n",
      "_________________________________________________________________\n"
     ]
    }
   ],
   "source": [
    "from keras import models\n",
    "from keras import layers\n",
    "\n",
    "model = models.Sequential()\n",
    "model.add(conv_base)\n",
    "model.add(layers.Flatten())\n",
    "model.add(layers.Dense(256, activation='relu'))\n",
    "model.add(layers.Dense(1, activation='sigmoid'))\n",
    "model.summary()"
   ]
  },
  {
   "cell_type": "code",
   "execution_count": 22,
   "metadata": {},
   "outputs": [
    {
     "name": "stdout",
     "output_type": "stream",
     "text": [
      "4\n"
     ]
    }
   ],
   "source": [
    "conv_base.trainable = False\n",
    "print(len(model.trainable_weights))"
   ]
  },
  {
   "cell_type": "code",
   "execution_count": 23,
   "metadata": {},
   "outputs": [],
   "source": [
    "import os\n",
    "base_dir = '/Users/l/Documents/MachineLearning/keras-playground/Substations'\n",
    "train_dir = os.path.join(base_dir, 'train')\n",
    "validation_dir = os.path.join(base_dir, 'validation')"
   ]
  },
  {
   "cell_type": "code",
   "execution_count": 24,
   "metadata": {},
   "outputs": [
    {
     "name": "stdout",
     "output_type": "stream",
     "text": [
      "Found 600 images belonging to 2 classes.\n",
      "Found 200 images belonging to 2 classes.\n"
     ]
    }
   ],
   "source": [
    "from keras.preprocessing.image import ImageDataGenerator\n",
    "from keras import optimizers\n",
    "from keras import callbacks\n",
    "\n",
    "train_datagen = ImageDataGenerator(\n",
    "    rescale=1./255,\n",
    "    rotation_range=40,\n",
    "    width_shift_range=0.2,\n",
    "    height_shift_range=0.2,\n",
    "    shear_range=(0.2),\n",
    "    zoom_range=(0.2),\n",
    "    horizontal_flip=True,\n",
    "    fill_mode='nearest'\n",
    ")\n",
    "\n",
    "validation_datagen = ImageDataGenerator(rescale=1./255)\n",
    "\n",
    "train_generator = train_datagen.flow_from_directory(\n",
    "    train_dir,\n",
    "    target_size=(200, 200),\n",
    "    batch_size=20,\n",
    "    class_mode='binary'\n",
    ")\n",
    "\n",
    "validation_generator = validation_datagen.flow_from_directory(\n",
    "    validation_dir,\n",
    "    target_size=(200, 200),\n",
    "    batch_size=20,\n",
    "    class_mode='binary'\n",
    ")"
   ]
  },
  {
   "cell_type": "code",
   "execution_count": null,
   "metadata": {},
   "outputs": [
    {
     "name": "stdout",
     "output_type": "stream",
     "text": [
      "Epoch 1/30\n",
      "30/30 [==============================] - 342s 11s/step - loss: 0.4929 - acc: 0.7883 - val_loss: 0.3208 - val_acc: 0.8900\n",
      "Epoch 2/30\n",
      "30/30 [==============================] - 313s 10s/step - loss: 0.3601 - acc: 0.8917 - val_loss: 0.2941 - val_acc: 0.9150\n",
      "Epoch 3/30\n",
      "30/30 [==============================] - 420s 14s/step - loss: 0.2490 - acc: 0.9217 - val_loss: 0.2807 - val_acc: 0.9400\n",
      "Epoch 4/30\n",
      "30/30 [==============================] - 333s 11s/step - loss: 0.2580 - acc: 0.9050 - val_loss: 0.2807 - val_acc: 0.9250\n",
      "Epoch 5/30\n",
      "30/30 [==============================] - 385s 13s/step - loss: 0.1860 - acc: 0.9383 - val_loss: 0.2775 - val_acc: 0.9300\n",
      "Epoch 6/30\n",
      "30/30 [==============================] - 403s 13s/step - loss: 0.2217 - acc: 0.9200 - val_loss: 0.2474 - val_acc: 0.9300\n",
      "Epoch 7/30\n",
      "30/30 [==============================] - 442s 15s/step - loss: 0.2101 - acc: 0.9217 - val_loss: 0.2397 - val_acc: 0.9300\n",
      "Epoch 8/30\n",
      "30/30 [==============================] - 436s 15s/step - loss: 0.1982 - acc: 0.9367 - val_loss: 0.2775 - val_acc: 0.9300\n",
      "Epoch 9/30\n",
      "30/30 [==============================] - 418s 14s/step - loss: 0.2200 - acc: 0.9183 - val_loss: 0.2611 - val_acc: 0.9200\n",
      "Epoch 10/30\n",
      "30/30 [==============================] - 396s 13s/step - loss: 0.2129 - acc: 0.9350 - val_loss: 0.2558 - val_acc: 0.9200\n",
      "Epoch 11/30\n",
      "30/30 [==============================] - 368s 12s/step - loss: 0.2284 - acc: 0.9250 - val_loss: 0.2543 - val_acc: 0.9350\n",
      "Epoch 12/30\n",
      "30/30 [==============================] - 355s 12s/step - loss: 0.2076 - acc: 0.9250 - val_loss: 0.2863 - val_acc: 0.9200\n",
      "Epoch 13/30\n",
      "29/30 [============================>.] - ETA: 8s - loss: 0.1621 - acc: 0.9397 "
     ]
    }
   ],
   "source": [
    "model.compile(loss='binary_crossentropy',\n",
    "             optimizer=optimizers.RMSprop(lr=1e-5),\n",
    "             metrics=['acc'])\n",
    "\n",
    "history = model.fit_generator(\n",
    "    train_generator,\n",
    "    steps_per_epoch=30,\n",
    "    epochs=30, \n",
    "    validation_data=validation_generator,\n",
    "    validation_steps=10,\n",
    ")"
   ]
  },
  {
   "cell_type": "code",
   "execution_count": null,
   "metadata": {},
   "outputs": [],
   "source": [
    "model.save('NasnetLarge 200*200 all frozen.h5')"
   ]
  }
 ],
 "metadata": {
  "kernelspec": {
   "display_name": "Python 2",
   "language": "python",
   "name": "python2"
  },
  "language_info": {
   "codemirror_mode": {
    "name": "ipython",
    "version": 2
   },
   "file_extension": ".py",
   "mimetype": "text/x-python",
   "name": "python",
   "nbconvert_exporter": "python",
   "pygments_lexer": "ipython2",
   "version": "2.7.15"
  }
 },
 "nbformat": 4,
 "nbformat_minor": 2
}
