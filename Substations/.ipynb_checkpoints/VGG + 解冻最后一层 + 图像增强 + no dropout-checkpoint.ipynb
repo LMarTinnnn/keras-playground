{
 "cells": [
  {
   "cell_type": "code",
   "execution_count": 17,
   "metadata": {},
   "outputs": [],
   "source": [
    "from keras.applications import VGG16\n",
    "conv_base = VGG16(weights='imagenet', include_top=False, input_shape=(150, 150, 3))"
   ]
  },
  {
   "cell_type": "code",
   "execution_count": 18,
   "metadata": {},
   "outputs": [
    {
     "name": "stdout",
     "output_type": "stream",
     "text": [
      "_________________________________________________________________\n",
      "Layer (type)                 Output Shape              Param #   \n",
      "=================================================================\n",
      "input_6 (InputLayer)         (None, 150, 150, 3)       0         \n",
      "_________________________________________________________________\n",
      "block1_conv1 (Conv2D)        (None, 150, 150, 64)      1792      \n",
      "_________________________________________________________________\n",
      "block1_conv2 (Conv2D)        (None, 150, 150, 64)      36928     \n",
      "_________________________________________________________________\n",
      "block1_pool (MaxPooling2D)   (None, 75, 75, 64)        0         \n",
      "_________________________________________________________________\n",
      "block2_conv1 (Conv2D)        (None, 75, 75, 128)       73856     \n",
      "_________________________________________________________________\n",
      "block2_conv2 (Conv2D)        (None, 75, 75, 128)       147584    \n",
      "_________________________________________________________________\n",
      "block2_pool (MaxPooling2D)   (None, 37, 37, 128)       0         \n",
      "_________________________________________________________________\n",
      "block3_conv1 (Conv2D)        (None, 37, 37, 256)       295168    \n",
      "_________________________________________________________________\n",
      "block3_conv2 (Conv2D)        (None, 37, 37, 256)       590080    \n",
      "_________________________________________________________________\n",
      "block3_conv3 (Conv2D)        (None, 37, 37, 256)       590080    \n",
      "_________________________________________________________________\n",
      "block3_pool (MaxPooling2D)   (None, 18, 18, 256)       0         \n",
      "_________________________________________________________________\n",
      "block4_conv1 (Conv2D)        (None, 18, 18, 512)       1180160   \n",
      "_________________________________________________________________\n",
      "block4_conv2 (Conv2D)        (None, 18, 18, 512)       2359808   \n",
      "_________________________________________________________________\n",
      "block4_conv3 (Conv2D)        (None, 18, 18, 512)       2359808   \n",
      "_________________________________________________________________\n",
      "block4_pool (MaxPooling2D)   (None, 9, 9, 512)         0         \n",
      "_________________________________________________________________\n",
      "block5_conv1 (Conv2D)        (None, 9, 9, 512)         2359808   \n",
      "_________________________________________________________________\n",
      "block5_conv2 (Conv2D)        (None, 9, 9, 512)         2359808   \n",
      "_________________________________________________________________\n",
      "block5_conv3 (Conv2D)        (None, 9, 9, 512)         2359808   \n",
      "_________________________________________________________________\n",
      "block5_pool (MaxPooling2D)   (None, 4, 4, 512)         0         \n",
      "=================================================================\n",
      "Total params: 14,714,688\n",
      "Trainable params: 14,714,688\n",
      "Non-trainable params: 0\n",
      "_________________________________________________________________\n",
      "_________________________________________________________________\n",
      "Layer (type)                 Output Shape              Param #   \n",
      "=================================================================\n",
      "vgg16 (Model)                (None, 4, 4, 512)         14714688  \n",
      "_________________________________________________________________\n",
      "flatten_6 (Flatten)          (None, 8192)              0         \n",
      "_________________________________________________________________\n",
      "dense_11 (Dense)             (None, 256)               2097408   \n",
      "_________________________________________________________________\n",
      "dense_12 (Dense)             (None, 1)                 257       \n",
      "=================================================================\n",
      "Total params: 16,812,353\n",
      "Trainable params: 16,812,353\n",
      "Non-trainable params: 0\n",
      "_________________________________________________________________\n"
     ]
    }
   ],
   "source": [
    "from keras import models\n",
    "from keras import layers\n",
    "\n",
    "model = models.Sequential()\n",
    "model.add(conv_base)\n",
    "model.add(layers.Flatten())\n",
    "model.add(layers.Dense(256, activation='relu'))\n",
    "model.add(layers.Dense(1, activation='sigmoid'))\n",
    "conv_base.summary()\n",
    "model.summary()"
   ]
  },
  {
   "cell_type": "code",
   "execution_count": 19,
   "metadata": {},
   "outputs": [],
   "source": [
    "conv_base.trainable = True\n",
    "set_trainable = False\n",
    "for layers in conv_base.layers:\n",
    "    if layers.name == 'block5_conv1':\n",
    "        set_trainable = True\n",
    "    if set_trainable:\n",
    "        layers.trainable = True\n",
    "    else:\n",
    "        layers.trainable = False"
   ]
  },
  {
   "cell_type": "code",
   "execution_count": 20,
   "metadata": {},
   "outputs": [],
   "source": [
    "import os\n",
    "base_dir = '/Users/l/Documents/MachineLearning/keras-playground/Substations'\n",
    "train_dir = os.path.join(base_dir, 'train')\n",
    "validation_dir = os.path.join(base_dir, 'validation')\n",
    "test_dir = os.path.join(base_dir, 'test')"
   ]
  },
  {
   "cell_type": "code",
   "execution_count": 22,
   "metadata": {},
   "outputs": [
    {
     "name": "stdout",
     "output_type": "stream",
     "text": [
      "Found 400 images belonging to 2 classes.\n",
      "Found 200 images belonging to 2 classes.\n",
      "Epoch 1/30\n",
      "20/20 [==============================] - 120s 6s/step - loss: 0.1755 - acc: 0.9400 - val_loss: 0.1781 - val_acc: 0.9450\n",
      "Epoch 2/30\n",
      "20/20 [==============================] - 116s 6s/step - loss: 0.1221 - acc: 0.9700 - val_loss: 0.1762 - val_acc: 0.9500\n",
      "Epoch 3/30\n",
      "20/20 [==============================] - 129s 6s/step - loss: 0.1151 - acc: 0.9600 - val_loss: 0.1713 - val_acc: 0.9450\n",
      "Epoch 4/30\n",
      "20/20 [==============================] - 121s 6s/step - loss: 0.1058 - acc: 0.9700 - val_loss: 0.1646 - val_acc: 0.9450\n",
      "Epoch 5/30\n",
      "20/20 [==============================] - 117s 6s/step - loss: 0.0937 - acc: 0.9750 - val_loss: 0.1593 - val_acc: 0.9550\n",
      "Epoch 6/30\n",
      "20/20 [==============================] - 117s 6s/step - loss: 0.0799 - acc: 0.9725 - val_loss: 0.1581 - val_acc: 0.9450\n",
      "Epoch 7/30\n",
      "20/20 [==============================] - 119s 6s/step - loss: 0.0650 - acc: 0.9825 - val_loss: 0.1591 - val_acc: 0.9550\n",
      "Epoch 8/30\n",
      "20/20 [==============================] - 117s 6s/step - loss: 0.0769 - acc: 0.9850 - val_loss: 0.1556 - val_acc: 0.9600\n",
      "Epoch 9/30\n",
      "20/20 [==============================] - 116s 6s/step - loss: 0.0666 - acc: 0.9750 - val_loss: 0.1582 - val_acc: 0.9400\n",
      "Epoch 10/30\n",
      "20/20 [==============================] - 117s 6s/step - loss: 0.0569 - acc: 0.9775 - val_loss: 0.1633 - val_acc: 0.9400\n",
      "Epoch 11/30\n",
      "20/20 [==============================] - 117s 6s/step - loss: 0.0475 - acc: 0.9875 - val_loss: 0.1465 - val_acc: 0.9600\n",
      "Epoch 12/30\n",
      "20/20 [==============================] - 117s 6s/step - loss: 0.0544 - acc: 0.9750 - val_loss: 0.1486 - val_acc: 0.9550\n",
      "Epoch 13/30\n",
      "20/20 [==============================] - 122s 6s/step - loss: 0.0500 - acc: 0.9875 - val_loss: 0.1470 - val_acc: 0.9600\n",
      "Epoch 14/30\n",
      "20/20 [==============================] - 130s 7s/step - loss: 0.0463 - acc: 0.9850 - val_loss: 0.1609 - val_acc: 0.9550\n",
      "Epoch 15/30\n",
      "20/20 [==============================] - 160s 8s/step - loss: 0.0721 - acc: 0.9775 - val_loss: 0.1479 - val_acc: 0.9600\n",
      "Epoch 16/30\n",
      "20/20 [==============================] - 282s 14s/step - loss: 0.0571 - acc: 0.9750 - val_loss: 0.1433 - val_acc: 0.9600\n",
      "Epoch 17/30\n",
      "20/20 [==============================] - 261s 13s/step - loss: 0.0680 - acc: 0.9700 - val_loss: 0.1387 - val_acc: 0.9600\n",
      "Epoch 18/30\n",
      "20/20 [==============================] - 299s 15s/step - loss: 0.0379 - acc: 0.9925 - val_loss: 0.1356 - val_acc: 0.9550\n",
      "Epoch 19/30\n",
      "20/20 [==============================] - 268s 13s/step - loss: 0.0382 - acc: 0.9875 - val_loss: 0.1689 - val_acc: 0.9500\n",
      "Epoch 20/30\n",
      "20/20 [==============================] - 249s 12s/step - loss: 0.0434 - acc: 0.9925 - val_loss: 0.1453 - val_acc: 0.9550\n",
      "Epoch 21/30\n",
      "20/20 [==============================] - 241s 12s/step - loss: 0.0273 - acc: 0.9925 - val_loss: 0.1506 - val_acc: 0.9700\n",
      "Epoch 22/30\n",
      "20/20 [==============================] - 253s 13s/step - loss: 0.0289 - acc: 0.9950 - val_loss: 0.1427 - val_acc: 0.9500\n",
      "Epoch 23/30\n",
      "20/20 [==============================] - 258s 13s/step - loss: 0.0318 - acc: 0.9925 - val_loss: 0.1416 - val_acc: 0.9600\n",
      "Epoch 24/30\n",
      "20/20 [==============================] - 260s 13s/step - loss: 0.0559 - acc: 0.9775 - val_loss: 0.1443 - val_acc: 0.9650\n",
      "Epoch 25/30\n",
      "20/20 [==============================] - 230s 11s/step - loss: 0.0362 - acc: 0.9850 - val_loss: 0.1353 - val_acc: 0.9550\n",
      "Epoch 26/30\n",
      "20/20 [==============================] - 237s 12s/step - loss: 0.0221 - acc: 0.9950 - val_loss: 0.1455 - val_acc: 0.9650\n",
      "Epoch 27/30\n",
      "20/20 [==============================] - 233s 12s/step - loss: 0.0229 - acc: 0.9950 - val_loss: 0.1405 - val_acc: 0.9500\n",
      "Epoch 28/30\n",
      "20/20 [==============================] - 266s 13s/step - loss: 0.0137 - acc: 0.9975 - val_loss: 0.1631 - val_acc: 0.9600\n",
      "Epoch 29/30\n",
      "20/20 [==============================] - 253s 13s/step - loss: 0.0341 - acc: 0.9850 - val_loss: 0.1429 - val_acc: 0.9550\n",
      "Epoch 30/30\n",
      "20/20 [==============================] - 243s 12s/step - loss: 0.0167 - acc: 0.9950 - val_loss: 0.1410 - val_acc: 0.9650\n"
     ]
    }
   ],
   "source": [
    "from keras.preprocessing.image import ImageDataGenerator\n",
    "from keras import optimizers\n",
    "from keras import callbacks\n",
    "\n",
    "train_datagen = ImageDataGenerator(\n",
    "    rescale=1./255,\n",
    "    rotation_range=40,\n",
    "    width_shift_range=0.2,\n",
    "    height_shift_range=0.2,\n",
    "    shear_range=(0.2),\n",
    "    zoom_range=(0.2),\n",
    "    horizontal_flip=True,\n",
    "    fill_mode='nearest'\n",
    ")\n",
    "\n",
    "validation_datagen = ImageDataGenerator(rescale=1./255)\n",
    "\n",
    "train_generator = train_datagen.flow_from_directory(\n",
    "    train_dir,\n",
    "    target_size=(150, 150),\n",
    "    batch_size=20,\n",
    "    class_mode='binary'\n",
    ")\n",
    "\n",
    "validation_generator = validation_datagen.flow_from_directory(\n",
    "    validation_dir,\n",
    "    target_size=(150, 150),\n",
    "    batch_size=20,\n",
    "    class_mode='binary'\n",
    ")\n",
    "\n",
    "model.compile(loss='binary_crossentropy',\n",
    "             optimizer=optimizers.RMSprop(lr=1e-5),\n",
    "             metrics=['acc'])\n",
    "\n",
    "history = model.fit_generator(\n",
    "    train_generator,\n",
    "    steps_per_epoch=20,\n",
    "    epochs=30, \n",
    "    validation_data=validation_generator,\n",
    "    validation_steps=10,\n",
    ")"
   ]
  },
  {
   "cell_type": "code",
   "execution_count": 23,
   "metadata": {},
   "outputs": [],
   "source": [
    "model.save('Vgg_version2(no dropout).h5')"
   ]
  },
  {
   "cell_type": "code",
   "execution_count": 26,
   "metadata": {},
   "outputs": [
    {
     "data": {
      "image/png": "[encoded data removed]",
      "text/plain": [
       "<Figure size 432x288 with 1 Axes>"
      ]
     },
     "metadata": {
      "needs_background": "light"
     },
     "output_type": "display_data"
    },
    {
     "data": {
      "image/png": "[encoded data removed]",
      "text/plain": [
       "<Figure size 432x288 with 1 Axes>"
      ]
     },
     "metadata": {
      "needs_background": "light"
     },
     "output_type": "display_data"
    }
   ],
   "source": [
    "history_dict = model.history.history\n",
    "history_dict.keys()\n",
    "\n",
    "import matplotlib.pyplot as plt\n",
    "\n",
    "def smooth_curve(points, factor=0.75):\n",
    "    smoothed_points = []\n",
    "    for point in points:\n",
    "        if not smoothed_points:\n",
    "            smoothed_points.append(point)\n",
    "        else:\n",
    "            previous = smoothed_points[-1]\n",
    "            smoothed_points.append(previous*factor + (1-factor)*point)\n",
    "    return smoothed_points\n",
    "\n",
    "train_loss = history_dict['loss']\n",
    "validation_loss = history_dict['val_loss']\n",
    "\n",
    "epochs = range(1, len(train_loss) +1)\n",
    "\n",
    "plt.plot(epochs, smooth_curve(train_loss), 'bo', label=\"Training loss\")\n",
    "plt.plot(epochs,smooth_curve(validation_loss), 'b', label=\"Validation loss\")\n",
    "plt.title('Training loss and validation loss')\n",
    "plt.xlabel('Epochs')\n",
    "plt.ylabel('Loss')\n",
    "plt.legend()\n",
    "plt.show()\n",
    "\n",
    "\n",
    "train_acc= history_dict['acc']\n",
    "validation_acc= history_dict['val_acc']\n",
    "epochs = range(1, len(train_acc) +1)\n",
    "\n",
    "plt.plot(epochs, smooth_curve(train_acc), 'bo', label=\"Training acc\")\n",
    "plt.plot(epochs, smooth_curve(validation_acc), 'b', label=\"Validation acc\")\n",
    "plt.title('Training acc')\n",
    "plt.xlabel('Epochs')\n",
    "plt.ylabel('Acc')\n",
    "plt.legend()\n",
    "plt.show()"
   ]
  },
  {
   "cell_type": "code",
   "execution_count": null,
   "metadata": {},
   "outputs": [],
   "source": [
    "img_path = \"/Users/l/Documents/MachineLearning/keras-playground/Substations/test/substations/877-35kV芒部变电站-104.8561521-27.6268726.jpg\"\n",
    "\n",
    "from keras.preprocessing import image\n",
    "import numpy as np\n",
    "\n",
    "img = image.load_img(img_path, target_size=(150, 150))\n",
    "img_tensor = image.img_to_array(img)\n",
    "img_tensor = np.expand_dims(img_tensor, axis=0)\n",
    "img_tensor /= 255"
   ]
  },
  {
   "cell_type": "code",
   "execution_count": 27,
   "metadata": {},
   "outputs": [
    {
     "ename": "NameError",
     "evalue": "name 'test_generator' is not defined",
     "output_type": "error",
     "traceback": [
      "\u001b[0;31m-------------------------------------------------------------------\u001b[0m",
      "\u001b[0;31mNameError\u001b[0m                         Traceback (most recent call last)",
      "\u001b[0;32m<ipython-input-27-7705d9be363f>\u001b[0m in \u001b[0;36m<module>\u001b[0;34m()\u001b[0m\n\u001b[1;32m      1\u001b[0m evaluation = model.evaluate_generator(\n\u001b[0;32m----> 2\u001b[0;31m     \u001b[0mtest_generator\u001b[0m\u001b[0;34m,\u001b[0m\u001b[0;34m\u001b[0m\u001b[0m\n\u001b[0m\u001b[1;32m      3\u001b[0m     \u001b[0msteps\u001b[0m\u001b[0;34m=\u001b[0m\u001b[0;36m10\u001b[0m\u001b[0;34m\u001b[0m\u001b[0m\n\u001b[1;32m      4\u001b[0m )\n",
      "\u001b[0;31mNameError\u001b[0m: name 'test_generator' is not defined"
     ]
    }
   ],
   "source": [
    "test_datagen = ImageDataGenerator(rescale=1./255)\n",
    "test_generator = test_datagen.flow_from_directory(\n",
    "    validation_dir,\n",
    "    target_size=(150, 150),\n",
    "    batch_size=20,\n",
    "    class_mode='binary'\n",
    ")\n",
    "\n",
    "evaluation = model.evaluate_generator(\n",
    "    test_generator,\n",
    "    steps=10\n",
    ")"
   ]
  },
  {
   "cell_type": "code",
   "execution_count": null,
   "metadata": {},
   "outputs": [],
   "source": []
  }
 ],
 "metadata": {
  "kernelspec": {
   "display_name": "Python 2",
   "language": "python",
   "name": "python2"
  },
  "language_info": {
   "codemirror_mode": {
    "name": "ipython",
    "version": 2
   },
   "file_extension": ".py",
   "mimetype": "text/x-python",
   "name": "python",
   "nbconvert_exporter": "python",
   "pygments_lexer": "ipython2",
   "version": "2.7.15"
  }
 },
 "nbformat": 4,
 "nbformat_minor": 2
}
